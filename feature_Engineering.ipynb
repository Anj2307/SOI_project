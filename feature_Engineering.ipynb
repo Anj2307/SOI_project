{
  "nbformat": 4,
  "nbformat_minor": 0,
  "metadata": {
    "colab": {
      "provenance": [],
      "authorship_tag": "ABX9TyMueUapG2T9DO6XHF3/+ZED",
      "include_colab_link": true
    },
    "kernelspec": {
      "name": "python3",
      "display_name": "Python 3"
    },
    "language_info": {
      "name": "python"
    }
  },
  "cells": [
    {
      "cell_type": "markdown",
      "metadata": {
        "id": "view-in-github",
        "colab_type": "text"
      },
      "source": [
        "<a href=\"https://colab.research.google.com/github/Anj2307/fraud_detect/blob/main/feature_Engineering.ipynb\" target=\"_parent\"><img src=\"https://colab.research.google.com/assets/colab-badge.svg\" alt=\"Open In Colab\"/></a>"
      ]
    },
    {
      "cell_type": "code",
      "execution_count": 35,
      "metadata": {
        "id": "KrAPE5QLTXTq"
      },
      "outputs": [],
      "source": [
        "import pandas as pd"
      ]
    },
    {
      "cell_type": "code",
      "source": [
        "df=pd.read_csv('/content/SOI_2025_Dataset.csv')\n",
        "df.head()\n",
        "print(df.shape)"
      ],
      "metadata": {
        "colab": {
          "base_uri": "https://localhost:8080/"
        },
        "id": "7lyTo6HZTvYN",
        "outputId": "b8efa6d3-3731-4b7e-fc6a-ab9c4616917c"
      },
      "execution_count": 36,
      "outputs": [
        {
          "output_type": "stream",
          "name": "stdout",
          "text": [
            "(1000000, 32)\n"
          ]
        }
      ]
    },
    {
      "cell_type": "markdown",
      "source": [
        "Standerdization of the data means covert all string inputs to numerical one for better testing the model."
      ],
      "metadata": {
        "id": "AcSGm2osUAG1"
      }
    },
    {
      "cell_type": "code",
      "source": [
        "df.select_dtypes(include='string').columns"
      ],
      "metadata": {
        "colab": {
          "base_uri": "https://localhost:8080/"
        },
        "id": "mE1piWnuT9mW",
        "outputId": "9f177c06-d33b-4f13-c166-b6efa2f5ff4a"
      },
      "execution_count": 37,
      "outputs": [
        {
          "output_type": "execute_result",
          "data": {
            "text/plain": [
              "Index([], dtype='object')"
            ]
          },
          "metadata": {},
          "execution_count": 37
        }
      ]
    },
    {
      "cell_type": "code",
      "source": [
        "from sklearn.preprocessing import LabelEncoder\n",
        "\n",
        "# Dictionary to store mappings for all columns\n",
        "encoders = {}\n",
        "\n",
        "# Loop over all object (string) columns\n",
        "for col in df.select_dtypes(include='object').columns:\n",
        "    le = LabelEncoder()\n",
        "\n",
        "    # Fit and transform the column\n",
        "    df[col + '_encoded'] = le.fit_transform(df[col])\n",
        "\n",
        "    # Save the mapping\n",
        "    mapping = dict(zip(le.classes_, le.transform(le.classes_)))\n",
        "    encoders[col] = mapping\n",
        "\n",
        "    # Print the mapping\n",
        "    print(f\"\\n📌 Mapping for '{col}':\")\n",
        "    for k, v in mapping.items():\n",
        "        print(f\"{k} → {v}\")\n",
        "print(df.shape)"
      ],
      "metadata": {
        "colab": {
          "base_uri": "https://localhost:8080/"
        },
        "id": "cCNE0EHQUfgI",
        "outputId": "f4a0bd9a-1c0c-416d-e667-ac455c4907b4"
      },
      "execution_count": 38,
      "outputs": [
        {
          "output_type": "stream",
          "name": "stdout",
          "text": [
            "\n",
            "📌 Mapping for 'payment_type':\n",
            "AA → 0\n",
            "AB → 1\n",
            "AC → 2\n",
            "AD → 3\n",
            "AE → 4\n",
            "\n",
            "📌 Mapping for 'employment_status':\n",
            "CA → 0\n",
            "CB → 1\n",
            "CC → 2\n",
            "CD → 3\n",
            "CE → 4\n",
            "CF → 5\n",
            "CG → 6\n",
            "\n",
            "📌 Mapping for 'housing_status':\n",
            "BA → 0\n",
            "BB → 1\n",
            "BC → 2\n",
            "BD → 3\n",
            "BE → 4\n",
            "BF → 5\n",
            "BG → 6\n",
            "\n",
            "📌 Mapping for 'source':\n",
            "INTERNET → 0\n",
            "TELEAPP → 1\n",
            "\n",
            "📌 Mapping for 'device_os':\n",
            "linux → 0\n",
            "macintosh → 1\n",
            "other → 2\n",
            "windows → 3\n",
            "x11 → 4\n",
            "(1000000, 37)\n"
          ]
        }
      ]
    },
    {
      "cell_type": "code",
      "source": [
        "import json\n",
        "import numpy as np\n",
        "\n",
        "# Convert numpy int64 to standard Python int\n",
        "def convert_int64(obj):\n",
        "    if isinstance(obj, np.int64):\n",
        "        return int(obj)\n",
        "    raise TypeError(f\"Object of type {obj.__class__.__name__} is not JSON serializable\")\n",
        "\n",
        "with open('mapping.json', 'w') as f:\n",
        "    json.dump(encoders, f, default=convert_int64)\n",
        "print(df.shape)"
      ],
      "metadata": {
        "colab": {
          "base_uri": "https://localhost:8080/"
        },
        "id": "w1Ruc8O6U00O",
        "outputId": "06ab8ccf-f8f2-42fb-8bb8-46356bccfc57"
      },
      "execution_count": 39,
      "outputs": [
        {
          "output_type": "stream",
          "name": "stdout",
          "text": [
            "(1000000, 37)\n"
          ]
        }
      ]
    },
    {
      "cell_type": "code",
      "source": [
        "# dropping the real columns to encoded one\n",
        "df['payment_type'] = df['payment_type_encoded']\n",
        "df.drop('payment_type_encoded', axis=1, inplace=True)\n",
        "df['employment_status'] = df['employment_status_encoded']\n",
        "df.drop('employment_status_encoded', axis=1, inplace=True)\n",
        "df['housing_status'] = df['housing_status_encoded']\n",
        "df.drop('housing_status_encoded', axis=1, inplace=True)\n",
        "df['source'] = df['source_encoded']\n",
        "df.drop('source_encoded', axis=1, inplace=True)\n",
        "df['device_os'] = df['device_os_encoded']\n",
        "df.drop('device_os_encoded', axis=1, inplace=True)\n",
        "print(df.shape)"
      ],
      "metadata": {
        "colab": {
          "base_uri": "https://localhost:8080/"
        },
        "id": "E9XRU1r2VYUF",
        "outputId": "35088387-1cd4-4787-ae0d-9749477bf9b0"
      },
      "execution_count": 40,
      "outputs": [
        {
          "output_type": "stream",
          "name": "stdout",
          "text": [
            "(1000000, 32)\n"
          ]
        }
      ]
    },
    {
      "cell_type": "markdown",
      "source": [
        "Generally fraudsters have most unsual activity at the time of crime. so we have weight to 6h then 4w"
      ],
      "metadata": {
        "id": "UVNrMl3QVhdP"
      }
    },
    {
      "cell_type": "code",
      "source": [
        "\n",
        "import matplotlib.pyplot as plt\n",
        "import seaborn as sns\n",
        "\n",
        "velocity_cols=['velocity_6h','velocity_24h','velocity_4w']"
      ],
      "metadata": {
        "id": "oi9huSAMVhCc"
      },
      "execution_count": 41,
      "outputs": []
    },
    {
      "cell_type": "code",
      "source": [
        "print(\" Correlation with 'fraud_bool':\")\n",
        "print(df[velocity_cols + ['fraud_bool']].corr()['fraud_bool'].sort_values(ascending=False))"
      ],
      "metadata": {
        "colab": {
          "base_uri": "https://localhost:8080/"
        },
        "id": "Q5pgxScVVfiG",
        "outputId": "3e374596-b140-4cdb-ddb0-c73f9aba7d90"
      },
      "execution_count": 42,
      "outputs": [
        {
          "output_type": "stream",
          "name": "stdout",
          "text": [
            " Correlation with 'fraud_bool':\n",
            "fraud_bool      1.000000\n",
            "velocity_24h   -0.009810\n",
            "velocity_4w    -0.010705\n",
            "velocity_6h    -0.016195\n",
            "Name: fraud_bool, dtype: float64\n"
          ]
        }
      ]
    },
    {
      "cell_type": "code",
      "source": [
        "for col in velocity_cols:\n",
        "    plt.figure(figsize=(6, 4))\n",
        "    sns.boxplot(x='fraud_bool', y=col, data=df)\n",
        "    plt.title(f'{col} vs Fraud')\n",
        "    plt.show()"
      ],
      "metadata": {
        "colab": {
          "base_uri": "https://localhost:8080/",
          "height": 1000
        },
        "id": "y8OiPtlJVdAF",
        "outputId": "262d0f62-8884-4509-b9b5-a137c62222e2"
      },
      "execution_count": 43,
      "outputs": [
        {
          "output_type": "display_data",
          "data": {
            "text/plain": [
              "<Figure size 600x400 with 1 Axes>"
            ],
            "image/png": "[encoded data removed]"
          },
          "metadata": {}
        },
        {
          "output_type": "display_data",
          "data": {
            "text/plain": [
              "<Figure size 600x400 with 1 Axes>"
            ],
            "image/png": "[encoded data removed]"
          },
          "metadata": {}
        },
        {
          "output_type": "display_data",
          "data": {
            "text/plain": [
              "<Figure size 600x400 with 1 Axes>"
            ],
            "image/png": "[encoded data removed]"
          },
          "metadata": {}
        }
      ]
    },
    {
      "cell_type": "code",
      "source": [
        "for col in velocity_cols:\n",
        "    log_col = f'log_{col}'\n",
        "    df[log_col] = np.log1p(df[col])  # log(1 + x)\n",
        "    plt.figure(figsize=(6, 4))\n",
        "    sns.boxplot(x='fraud_bool', y=log_col, data=df)\n",
        "    plt.title(f'Log-Transformed {col} vs Fraud')\n",
        "    plt.show()"
      ],
      "metadata": {
        "colab": {
          "base_uri": "https://localhost:8080/",
          "height": 1000
        },
        "id": "-PcipR2pVxfr",
        "outputId": "08535a87-6942-4792-a91f-1f255b2aadfc"
      },
      "execution_count": 44,
      "outputs": [
        {
          "output_type": "display_data",
          "data": {
            "text/plain": [
              "<Figure size 600x400 with 1 Axes>"
            ],
            "image/png": "[encoded data removed]"
          },
          "metadata": {}
        },
        {
          "output_type": "display_data",
          "data": {
            "text/plain": [
              "<Figure size 600x400 with 1 Axes>"
            ],
            "image/png": "[encoded data removed]"
          },
          "metadata": {}
        },
        {
          "output_type": "display_data",
          "data": {
            "text/plain": [
              "<Figure size 600x400 with 1 Axes>"
            ],
            "image/png": "[encoded data removed]"
          },
          "metadata": {}
        }
      ]
    },
    {
      "cell_type": "code",
      "source": [
        "corrs = df[['velocity_6h', 'velocity_24h', 'velocity_4w', 'fraud_bool']].corr()['fraud_bool'][:-1]\n",
        "weights = corrs / corrs.sum()\n",
        "print(weights)\n",
        "print(type(weights))\n",
        "# Apply weighted score\n",
        "df['velocity_risk_score'] = (\n",
        "    weights['velocity_6h'] * df['velocity_6h'] +\n",
        "    weights['velocity_24h'] * df['velocity_24h'] +\n",
        "    weights['velocity_4w'] * df['velocity_4w']\n",
        ")"
      ],
      "metadata": {
        "colab": {
          "base_uri": "https://localhost:8080/"
        },
        "id": "DMpSxuZZV8mv",
        "outputId": "7bf949d9-bd43-47e2-fc34-23a953989e7a"
      },
      "execution_count": 45,
      "outputs": [
        {
          "output_type": "stream",
          "name": "stdout",
          "text": [
            "velocity_6h     0.441166\n",
            "velocity_24h    0.267222\n",
            "velocity_4w     0.291612\n",
            "Name: fraud_bool, dtype: float64\n",
            "<class 'pandas.core.series.Series'>\n"
          ]
        }
      ]
    },
    {
      "cell_type": "code",
      "source": [
        "weights_map = weights.to_dict()\n",
        "print(weights_map)\n"
      ],
      "metadata": {
        "colab": {
          "base_uri": "https://localhost:8080/"
        },
        "id": "8i2Q28iRWFX9",
        "outputId": "d86bf284-2641-4484-f8aa-1fa9f3f5cc5a"
      },
      "execution_count": 46,
      "outputs": [
        {
          "output_type": "stream",
          "name": "stdout",
          "text": [
            "{'velocity_6h': 0.44116587637656723, 'velocity_24h': 0.26722219181048107, 'velocity_4w': 0.29161193181295175}\n"
          ]
        }
      ]
    },
    {
      "cell_type": "code",
      "source": [
        "import json\n",
        "# saving to json file\n",
        "with open(\"weight_map.json\", \"w\") as f:\n",
        "    json.dump(weights_map, f, indent=4)"
      ],
      "metadata": {
        "id": "UzD6T3onV9iK"
      },
      "execution_count": 47,
      "outputs": []
    },
    {
      "cell_type": "code",
      "source": [
        "df.drop(['log_velocity_6h','log_velocity_24h','log_velocity_4w'],axis=1,inplace=True)"
      ],
      "metadata": {
        "id": "RRvNjg_-WJva"
      },
      "execution_count": 48,
      "outputs": []
    },
    {
      "cell_type": "code",
      "source": [
        "print(len(df.columns.tolist()))"
      ],
      "metadata": {
        "colab": {
          "base_uri": "https://localhost:8080/"
        },
        "id": "0vpWyuJeWNoJ",
        "outputId": "edc88c02-b516-4059-db1f-b5fc51429b28"
      },
      "execution_count": 49,
      "outputs": [
        {
          "output_type": "stream",
          "name": "stdout",
          "text": [
            "33\n"
          ]
        }
      ]
    },
    {
      "cell_type": "code",
      "source": [
        "df.columns.tolist()"
      ],
      "metadata": {
        "colab": {
          "base_uri": "https://localhost:8080/"
        },
        "id": "F9eCAnoUWOpQ",
        "outputId": "4219a22d-70ec-41fc-dfc2-3c958a4462f2"
      },
      "execution_count": 50,
      "outputs": [
        {
          "output_type": "execute_result",
          "data": {
            "text/plain": [
              "['fraud_bool',\n",
              " 'income',\n",
              " 'name_email_similarity',\n",
              " 'prev_address_months_count',\n",
              " 'current_address_months_count',\n",
              " 'customer_age',\n",
              " 'days_since_request',\n",
              " 'intended_balcon_amount',\n",
              " 'payment_type',\n",
              " 'zip_count_4w',\n",
              " 'velocity_6h',\n",
              " 'velocity_24h',\n",
              " 'velocity_4w',\n",
              " 'bank_branch_count_8w',\n",
              " 'date_of_birth_distinct_emails_4w',\n",
              " 'employment_status',\n",
              " 'credit_risk_score',\n",
              " 'email_is_free',\n",
              " 'housing_status',\n",
              " 'phone_home_valid',\n",
              " 'phone_mobile_valid',\n",
              " 'bank_months_count',\n",
              " 'has_other_cards',\n",
              " 'proposed_credit_limit',\n",
              " 'foreign_request',\n",
              " 'source',\n",
              " 'session_length_in_minutes',\n",
              " 'device_os',\n",
              " 'keep_alive_session',\n",
              " 'device_distinct_emails_8w',\n",
              " 'device_fraud_count',\n",
              " 'month',\n",
              " 'velocity_risk_score']"
            ]
          },
          "metadata": {},
          "execution_count": 50
        }
      ]
    },
    {
      "cell_type": "markdown",
      "source": [
        "i remove fraud_count as it remain 0 everywhere"
      ],
      "metadata": {
        "id": "bhIX4rHmWZ-u"
      }
    },
    {
      "cell_type": "code",
      "source": [
        "df.drop('device_fraud_count',axis=1,inplace=True)"
      ],
      "metadata": {
        "id": "Xf3ufYbBWZo3"
      },
      "execution_count": 51,
      "outputs": []
    },
    {
      "cell_type": "code",
      "source": [
        "for i in df.columns.tolist():\n",
        "    print(i,df[i].value_counts().get(-1,0))\n"
      ],
      "metadata": {
        "colab": {
          "base_uri": "https://localhost:8080/"
        },
        "id": "3SN5Mc0NWXio",
        "outputId": "e76227ab-1a11-42ec-96c5-bef2667a0a2a"
      },
      "execution_count": 52,
      "outputs": [
        {
          "output_type": "stream",
          "name": "stdout",
          "text": [
            "fraud_bool 0\n",
            "income 0\n",
            "name_email_similarity 0\n",
            "prev_address_months_count 759415\n",
            "current_address_months_count 3488\n",
            "customer_age 0\n",
            "days_since_request 0\n",
            "intended_balcon_amount 0\n",
            "payment_type 0\n",
            "zip_count_4w 0\n",
            "velocity_6h 0\n",
            "velocity_24h 0\n",
            "velocity_4w 0\n",
            "bank_branch_count_8w 0\n",
            "date_of_birth_distinct_emails_4w 0\n",
            "employment_status 0\n",
            "credit_risk_score 435\n",
            "email_is_free 0\n",
            "housing_status 0\n",
            "phone_home_valid 0\n",
            "phone_mobile_valid 0\n",
            "bank_months_count 241872\n",
            "has_other_cards 0\n",
            "proposed_credit_limit 0\n",
            "foreign_request 0\n",
            "source 0\n",
            "session_length_in_minutes 2277\n",
            "device_os 0\n",
            "keep_alive_session 0\n",
            "device_distinct_emails_8w 336\n",
            "month 0\n",
            "velocity_risk_score 0\n"
          ]
        }
      ]
    },
    {
      "cell_type": "code",
      "source": [
        "print(df.shape)"
      ],
      "metadata": {
        "colab": {
          "base_uri": "https://localhost:8080/"
        },
        "id": "_cdvvk54W-K2",
        "outputId": "d284e658-54b7-448a-eb7e-d0782040494a"
      },
      "execution_count": 53,
      "outputs": [
        {
          "output_type": "stream",
          "name": "stdout",
          "text": [
            "(1000000, 32)\n"
          ]
        }
      ]
    },
    {
      "cell_type": "code",
      "source": [
        "cols_with_neg1 = []\n",
        "\n",
        "for col in df.columns:\n",
        "    if (df[col] == -1).any():\n",
        "        cols_with_neg1.append(col)\n",
        "print(cols_with_neg1)\n",
        "print(df.shape)"
      ],
      "metadata": {
        "colab": {
          "base_uri": "https://localhost:8080/"
        },
        "id": "kRB3fy7PW_q3",
        "outputId": "98200a44-85a3-4398-a883-c9464ccb0e80"
      },
      "execution_count": 55,
      "outputs": [
        {
          "output_type": "stream",
          "name": "stdout",
          "text": [
            "['prev_address_months_count', 'current_address_months_count', 'credit_risk_score', 'bank_months_count', 'session_length_in_minutes', 'device_distinct_emails_8w']\n",
            "(1000000, 32)\n"
          ]
        }
      ]
    },
    {
      "cell_type": "code",
      "source": [
        "for i in cols_with_neg1:\n",
        "    median_val=df.loc[df[i]!=-1,i].median()\n",
        "    df[i]=df[i].replace(-1,median_val)\n",
        "print(df.shape)"
      ],
      "metadata": {
        "colab": {
          "base_uri": "https://localhost:8080/"
        },
        "id": "MoVeAoCXYGGx",
        "outputId": "5b535dd4-6982-4808-c742-c641812d928c"
      },
      "execution_count": 57,
      "outputs": [
        {
          "output_type": "stream",
          "name": "stdout",
          "text": [
            "(1000000, 32)\n"
          ]
        }
      ]
    },
    {
      "cell_type": "code",
      "source": [
        "df_copy=df.copy()"
      ],
      "metadata": {
        "id": "EU9zfE9MYQ3l"
      },
      "execution_count": 58,
      "outputs": []
    },
    {
      "cell_type": "code",
      "source": [
        "df.drop(['velocity_6h','velocity_24h','velocity_4w'],axis=1,inplace=True)"
      ],
      "metadata": {
        "id": "aEfzZuPQcFF2"
      },
      "execution_count": 70,
      "outputs": []
    },
    {
      "cell_type": "code",
      "source": [
        "from sklearn.preprocessing import StandardScaler\n",
        "num_cols=df.select_dtypes(include=['int64','float64']).columns.tolist()\n",
        "num_cols.remove('fraud_bool')\n",
        "scaler=StandardScaler()\n",
        "df[num_cols]=scaler.fit_transform(df[num_cols])"
      ],
      "metadata": {
        "id": "NejNF2VXYUeV"
      },
      "execution_count": 71,
      "outputs": []
    },
    {
      "cell_type": "code",
      "source": [
        "print(df.shape)"
      ],
      "metadata": {
        "colab": {
          "base_uri": "https://localhost:8080/"
        },
        "id": "DcZ5p_I5YYt7",
        "outputId": "28b12556-dbc8-4dee-d9a2-47979c8019b0"
      },
      "execution_count": 72,
      "outputs": [
        {
          "output_type": "stream",
          "name": "stdout",
          "text": [
            "(1000000, 29)\n"
          ]
        }
      ]
    },
    {
      "cell_type": "code",
      "source": [
        "from sklearn.model_selection import train_test_split\n",
        "\n",
        "X = df.drop('fraud_bool', axis=1)\n",
        "y = df['fraud_bool']\n",
        "\n",
        "X_train, X_test, y_train, y_test = train_test_split(\n",
        "    X, y, test_size=0.2, random_state=42, stratify=y\n",
        ")"
      ],
      "metadata": {
        "id": "mLO-oFCPYe1l"
      },
      "execution_count": 73,
      "outputs": []
    },
    {
      "cell_type": "code",
      "source": [
        "train_data = X_train.copy()\n",
        "train_data['fraud_bool'] = y_train\n",
        "\n",
        "test_data = X_test.copy()\n",
        "test_data['fraud_bool'] = y_test\n"
      ],
      "metadata": {
        "id": "egrNoZMQYl_e"
      },
      "execution_count": 74,
      "outputs": []
    },
    {
      "cell_type": "code",
      "source": [
        "train_data.to_csv('train_dataset.csv', index=False)\n",
        "test_data.to_csv('test_dataset.csv', index=False)\n"
      ],
      "metadata": {
        "id": "XqDddUl6Yps9"
      },
      "execution_count": 75,
      "outputs": []
    },
    {
      "cell_type": "code",
      "source": [
        "print(X_test.shape)"
      ],
      "metadata": {
        "colab": {
          "base_uri": "https://localhost:8080/"
        },
        "id": "NmD2LH19ZCvz",
        "outputId": "81bace37-28ab-49d0-b0fe-57009ec74c6d"
      },
      "execution_count": 76,
      "outputs": [
        {
          "output_type": "stream",
          "name": "stdout",
          "text": [
            "(200000, 28)\n"
          ]
        }
      ]
    }
  ]
}